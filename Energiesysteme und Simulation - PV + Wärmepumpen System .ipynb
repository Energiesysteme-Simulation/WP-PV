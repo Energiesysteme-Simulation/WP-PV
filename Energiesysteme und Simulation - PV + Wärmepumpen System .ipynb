{
 "cells": [
  {
   "cell_type": "markdown",
   "metadata": {},
   "source": [
    "# Beispiel für die Energiesystemmodellierung eines PV-Wärmepumpen Systems mit Netzanschluss"
   ]
  },
  {
   "cell_type": "markdown",
   "metadata": {},
   "source": [
    "## Zunächst importieren wir die benötigten python Bibliotheken."
   ]
  },
  {
   "cell_type": "code",
   "execution_count": null,
   "metadata": {},
   "outputs": [],
   "source": [
    "import pypsa\n",
    "import pandas as pd\n",
    "import matplotlib.pyplot as plt"
   ]
  },
  {
   "cell_type": "markdown",
   "metadata": {},
   "source": [
    "## Import der Daten"
   ]
  },
  {
   "cell_type": "markdown",
   "metadata": {},
   "source": [
    "Die Werte der Zeitreihen sind in einem Unterordner \"data\" als csv-Datein abgelegt. Sie werden mit Hilfe der python Bibliothek pandas eingelesen und als Variablen angelegt. Dabei werden Parameter wie der Seperator (hier \";\") und die Indexspalte sowie die Funktion, aus der Indexspalte Zeit und Datenformate auszulesen gesetzt. "
   ]
  },
  {
   "cell_type": "code",
   "execution_count": null,
   "metadata": {},
   "outputs": [],
   "source": [
    "electrical_load = pd.read_csv('./data/SumProfiles_Electricity.csv', sep = ';', index_col='Time', parse_dates=True)\n",
    "heat_load = pd.read_csv('./data/SumProfiles_Gas.csv', sep = ';', index_col='Time', parse_dates=True)\n",
    "pv_infeed = pd.read_csv('./data/pv_infeed.csv', sep = ';', index_col='Time', parse_dates=True)"
   ]
  },
  {
   "cell_type": "markdown",
   "metadata": {},
   "source": [
    "Die eingelesenen Zeitreihen sind so noch nicht vollständig nutzbar. Um die Die Einspeisung der PV-Anlage zu normieren wird eine neue Spalte mit dem normierten Leistungsoutput sowie neue Spalten mir der Leistung der Last in den jeweiligen Variablen angelegt."
   ]
  },
  {
   "cell_type": "code",
   "execution_count": null,
   "metadata": {},
   "outputs": [],
   "source": [
    "#Die gemessene PV-Einspeiseganglinie ist von einer Anlage mit einer Leistung von 3,5 kWp \n",
    "pv_infeed['p_max_pu'] = pv_infeed.power_kw/3.5 \n",
    "\n",
    "#Das Profil hat eine Energienachfrage in kwh pro 10 Minuten, daher die Umrechnung in Leistung\n",
    "electrical_load['power_kw'] = electrical_load.demand_kwh * (60.0/10.0)\n",
    "heat_load['power_kw'] = heat_load.demand_kwh * (60.0/10.0)"
   ]
  },
  {
   "cell_type": "markdown",
   "metadata": {},
   "source": [
    "Schauen wir uns die importierten und bearbeiteten Daten einmal an:"
   ]
  },
  {
   "cell_type": "code",
   "execution_count": null,
   "metadata": {},
   "outputs": [],
   "source": [
    "electrical_load.head()"
   ]
  },
  {
   "cell_type": "code",
   "execution_count": null,
   "metadata": {},
   "outputs": [],
   "source": [
    "electrical_load.plot()"
   ]
  },
  {
   "cell_type": "markdown",
   "metadata": {},
   "source": [
    "Um einen besseren Einblick zu erhalten, schauen wir uns nur einen Ausschnitt aller drei Tabellen an:"
   ]
  },
  {
   "cell_type": "code",
   "execution_count": null,
   "metadata": {},
   "outputs": [],
   "source": [
    "df_figure = pd.concat([electrical_load.power_kw, heat_load.power_kw, pv_infeed.power_kw], axis = 1)\n",
    "df_figure.columns = ['Elektrische Last', 'Wärme Last', 'PV Einspeisung']\n",
    "df_figure.loc['10-13-19 00:00:00':'10-14-19 23:50:00'].plot(subplots = True, figsize=(15,10), title= 'Leistung in kW')"
   ]
  },
  {
   "cell_type": "markdown",
   "metadata": {},
   "source": [
    "## Definition von Anlagenparametern "
   ]
  },
  {
   "cell_type": "markdown",
   "metadata": {},
   "source": [
    "Die Paramter der PV-Anlage, sowie die Wärmepumpe und der Heizkessel mit thermischen Speicher werden hier definiert. Die Definition ist an reale techniche Anlagen angelehnt. Um Einflüsse der verscheidenen Komponenten auf die Ergebnisse zu erfassen, können sie geändert werden. "
   ]
  },
  {
   "cell_type": "markdown",
   "metadata": {},
   "source": [
    "### Komponenten des Haushalts "
   ]
  },
  {
   "cell_type": "markdown",
   "metadata": {},
   "source": [
    "Die Parameter sind in kW bzw. in cent/kWh angegeben und werden in ein python Dictionary gespeichert."
   ]
  },
  {
   "cell_type": "code",
   "execution_count": null,
   "metadata": {},
   "outputs": [],
   "source": [
    "# PV-Anlage\n",
    "pv = {\"electrical_power\": 10.0}\n",
    "\n",
    "#Wärmepumpe\n",
    "heat_pump = {\"electrical_power\": 3.0,\n",
    "              \"COP\": 3.25}\n",
    "\n",
    "#Heizkessel\n",
    "heating_boiler = {\"thermal_power\": 20.0,\n",
    "                   \"efficiency\":0.98,\n",
    "                   \"gas_costs\": 4.5} #Kosten in cent/kWh\n",
    "\n",
    "#Warmwasserspeicher\n",
    "hot_water_storage =  {\"thermal_power\": 20.0,\n",
    "                   \"thermal_capacity\":3.5, #Kapazität in kWh\n",
    "                   \"standing_loss\": 0.01, #Selbstentlasdungsverluste in Energie des Speicherinhalts, der sich nach einer Stunde selbst entladen hat.} "
   ]
  },
  {
   "cell_type": "markdown",
   "metadata": {},
   "source": [
    "### Netzanschluss "
   ]
  },
  {
   "cell_type": "markdown",
   "metadata": {},
   "source": [
    "Der Netzanschluss wird für den Haushalt mit 14,5 kW angenommen. \n",
    "Hier ist auch eine Kappungsgrenze bei 70% der Nennleistung der PV-Anlage implementiert."
   ]
  },
  {
   "cell_type": "code",
   "execution_count": null,
   "metadata": {},
   "outputs": [],
   "source": [
    "# Leistungsbezug aus dem Netz\n",
    "grid_import = {\"electrical_power\" : 14.5,\n",
    "                \"electricity_price\": 30.0} #Preise in cent/kWh\n",
    "\n",
    "#Leistungsabgabe in das Netz\n",
    "grid_export = {\"electrical_power\" : 0.7 * pv[\"electrical_power\"], #Repräsentiert die 70% Kappungsgrenze bei kleinen PV-Anlagen\n",
    "                \"electricity_revenue\": 12.0} #EEG-Erlöse in cent/kWh"
   ]
  },
  {
   "cell_type": "markdown",
   "metadata": {},
   "source": [
    "## Verwendung von pypsa um das Energiemodell aufzubauen"
   ]
  },
  {
   "cell_type": "markdown",
   "metadata": {},
   "source": [
    "Im Folgenden verwenden wir die offene python bibliothek pypsa um unser Energiesystem zu bauen. Diese ist objektorientiert aufgebaut und hat verschiedene Module, welche zu einem Energiesystem zusammengesetz werden können. Gleichzeitig kann der Einsatz der Komponenten nach Grenzkosten bestimmt werden. Es lassen sich auch AC- und DC-Netzflussberechnungen sowie Kapazitätsplanungen mit der Bibliothek ausführen. "
   ]
  },
  {
   "cell_type": "markdown",
   "metadata": {},
   "source": [
    "### Definition des Netzwerks"
   ]
  },
  {
   "cell_type": "markdown",
   "metadata": {},
   "source": [
    "Das Netzwerk ist das Pypsa Objekt, welches alle anderen Objekte enthält. Es definiert damit die Basisparmeter unseres Energiesystems. Wir erstellen zunächst ein leeres Netzwerk und definieren dann die Zeitschritte. Diese lesen wir aus den Eingangsdaten ab."
   ]
  },
  {
   "cell_type": "code",
   "execution_count": null,
   "metadata": {},
   "outputs": [],
   "source": [
    "#Netzwerk definieren\n",
    "network = pypsa.Network()\n",
    "network.set_snapshots(pv_infeed.index)\n",
    "network.snapshot_weightings = pd.Series(data = 1/6, index = network.snapshots) #Jeder Zeitpunkt repräsentiert 10 Minuten also 1/6 Stunde."
   ]
  },
  {
   "cell_type": "markdown",
   "metadata": {},
   "source": [
    "#### Knoten definieren"
   ]
  },
  {
   "cell_type": "markdown",
   "metadata": {},
   "source": [
    "An Knoten werden bei pypsa die Energieflüsse bilanziert und die Komponenten an diese angeschlossen. Wir definieren hier einen Strom- und einen Wärmeknoten."
   ]
  },
  {
   "cell_type": "code",
   "execution_count": null,
   "metadata": {},
   "outputs": [],
   "source": [
    "#Stromknoten definieren\n",
    "network.add(\"Bus\", \n",
    "            name = \"electricity\", \n",
    "            v_nom = 0.4)\n",
    "\n",
    "#Wärmeknoten definieren\n",
    "network.add(\"Bus\", \n",
    "            name = \"heat\")"
   ]
  },
  {
   "cell_type": "markdown",
   "metadata": {},
   "source": [
    "#### Lasten definieren "
   ]
  },
  {
   "cell_type": "markdown",
   "metadata": {},
   "source": [
    "An jeden Knoten wird nun eine Last angeschlossen. Diese wird mit den Leistungszeitreihen der jeweiligen Lasten belegt."
   ]
  },
  {
   "cell_type": "code",
   "execution_count": null,
   "metadata": {},
   "outputs": [],
   "source": [
    "# Elektrische Last\n",
    "network.add(\"Load\", \n",
    "            name =\"electricity_load\", \n",
    "            bus = \"electricity\", \n",
    "            p_set = electrical_load.power_kw)\n",
    "\n",
    "# Wärmelast\n",
    "network.add(\"Load\", \n",
    "            name =\"heat_load\", \n",
    "            bus = \"heat\", \n",
    "            p_set = heat_load.power_kw)\n"
   ]
  },
  {
   "cell_type": "markdown",
   "metadata": {},
   "source": [
    "#### Erzeugungseinheiten definieren"
   ]
  },
  {
   "cell_type": "markdown",
   "metadata": {},
   "source": [
    "In pypsa sind Erzeugungseinheiten als \"Generator\" definiert. Diese haben eine installierte Leistung \"p_nom\" und ggf. eine normierte maximale Leistung \"p_ma_pu\".\n",
    "Wir definieren die PV-Anlage und den Heizkessel."
   ]
  },
  {
   "cell_type": "code",
   "execution_count": null,
   "metadata": {},
   "outputs": [],
   "source": [
    "#PV-Anlage\n",
    "network.add(\"Generator\", \n",
    "            name = \"pv\",\n",
    "            bus = \"electricity\", \n",
    "            p_nom = pv[\"electrical_power\"], \n",
    "            p_max_pu = pv_infeed.p_max_pu, \n",
    "            marginal_cost = 0)\n",
    "\n",
    "#Heizkessel\n",
    "network.add(\"Generator\", \n",
    "            name = \"boiler\", \n",
    "            bus = \"heat\", \n",
    "            p_nom = heating_boiler[\"thermal_power\"], efficiency=heating_boiler[\"efficiency\"], \n",
    "            marginal_cost = heating_boiler[\"gas_costs\"]/heating_boiler[\"efficiency\"])"
   ]
  },
  {
   "cell_type": "markdown",
   "metadata": {},
   "source": [
    "#### Speicher definieren"
   ]
  },
  {
   "cell_type": "markdown",
   "metadata": {},
   "source": [
    "Wir definieren den Speicher. Dabei wird ein Hilfknoten definiert, an welchem die Einspeicherleistung, die Ausspeicherleistung als steuerbare Verbindung zwischen zwei Knoten und der Speicher selbst angeschlossen werden.  "
   ]
  },
  {
   "cell_type": "code",
   "execution_count": null,
   "metadata": {},
   "outputs": [],
   "source": [
    "# Hilfsknoten\n",
    "network.add(\"Bus\", \n",
    "            name = \"storage_heat\")\n",
    "\n",
    "#Einspeicherleistung vom Knoten \"heat\" zum Knoten \"storage_heat\"\n",
    "network.add(\"Link\", \n",
    "            name = \"hot_water_storage_charge\", \n",
    "            bus0 = \"heat\", \n",
    "            bus1 = \"storage_heat\", \n",
    "            p_nom = hot_water_storage[\"thermal_power\"])\n",
    "\n",
    "#Ausspeicherleistung vom Knoten \"storage_heat\" zum Knoten \"heat\"\n",
    "network.add(\"Link\", \n",
    "            name = \"hot_water_storage_discharge\", \n",
    "            bus0 = \"storage_heat\", \n",
    "            bus1 = \"heat\", \n",
    "            p_nom = hot_water_storage[\"thermal_power\"])\n",
    "\n",
    "#Speicher\n",
    "network.add(\"Store\", \n",
    "            name = \"hot_water_storage\", \n",
    "            bus = \"storage_heat\", \n",
    "            e_nom = hot_water_storage[\"thermal_capacity\"],\n",
    "            e_cyclic = True, # Der Speicherfüllstand soll am Ende des Betrachtungszeitraumes wieder den Wert vom Anfang annehmen\n",
    "            standing_loss = hot_water_storage[\"standing_loss\"]\n",
    "            )"
   ]
  },
  {
   "cell_type": "markdown",
   "metadata": {},
   "source": [
    "#### Netzanschluss definieren"
   ]
  },
  {
   "cell_type": "markdown",
   "metadata": {},
   "source": [
    "Der Netzanschluss wird hier auch als \"Generator\" definiert. Das heißt es kann Leistung aus dem Netz für einen bestimmten Preis bezogen werden. Die Netzeinspeisung wird auch als \"Generator\" definiert, allerdings wird die Leistungsabgabe dieses Generators mit einem Vorzeichenwechsel umgedreht. Der \"Generator\" kann also Leistung aufnehmen. Zusätzlich sind die Kosten negativ um Erlöse durch die EEG-Vergütung abzubilden. "
   ]
  },
  {
   "cell_type": "code",
   "execution_count": null,
   "metadata": {},
   "outputs": [],
   "source": [
    "#Netzbezug\n",
    "network.add(\"Generator\", \n",
    "            name = \"grid_import\",\n",
    "            bus = \"electricity\", \n",
    "            p_nom = grid_import[\"electrical_power\"], \n",
    "            marginal_cost = grid_import[\"electricity_price\"])\n",
    "\n",
    "#Netzeinspeisung\n",
    "network.add(\"Generator\", \n",
    "            name = \"grid_export\",\n",
    "            bus = \"electricity\", \n",
    "            p_nom = grid_export[\"electrical_power\"], \n",
    "            marginal_cost = -grid_export[\"electricity_revenue\"], #Die Kosten müssen hier negativ sein, um Erlöse darzustellen\n",
    "            sign = -1) #Das Vorzeichen -1 sorgt hier dafür, dass der Generator Leistung aufnimmt und nicht abgibt."
   ]
  },
  {
   "cell_type": "markdown",
   "metadata": {},
   "source": [
    "#### Implementierung der Wärmepumpe"
   ]
  },
  {
   "cell_type": "markdown",
   "metadata": {},
   "source": [
    "Die Wärmepumpe wird als \"Link\" zwischen den Knoten \"electricity\" und \"heat\" implementiert. Sie hat eine Effizienz, welche größer als eins ist, um die genutzte Umgebungswärme abzubilden."
   ]
  },
  {
   "cell_type": "code",
   "execution_count": null,
   "metadata": {},
   "outputs": [],
   "source": [
    "#Wärmepumpe\n",
    "network.add(\"Link\", \n",
    "            name=\"heat_pump\", \n",
    "            bus0=\"electricity\", \n",
    "            bus1=\"heat\", \n",
    "            p_nom=heat_pump[\"electrical_power\"],\n",
    "            efficiency = heat_pump[\"COP\"]\n",
    "           )"
   ]
  },
  {
   "cell_type": "markdown",
   "metadata": {},
   "source": [
    "## Simulation der Basiskonfiguration ohne Wärmepumpe"
   ]
  },
  {
   "cell_type": "markdown",
   "metadata": {},
   "source": [
    "Um die Basisvariante ohne Wärmepumpe zu berechnen setzten wir die Leistung der Wärmepumpe temporär auf 0. \n",
    "Die in pypsa implementierte Funktion lopf optimiert den Einsatz aller Komponenten so, dass die dabei entstehenden Kosten minimal sind."
   ]
  },
  {
   "cell_type": "code",
   "execution_count": null,
   "metadata": {},
   "outputs": [],
   "source": [
    "network.links.loc['heat_pump', 'p_nom'] = 0.0"
   ]
  },
  {
   "cell_type": "markdown",
   "metadata": {},
   "source": [
    "Wir überprüfen kurz, ob die installierte Leistung wirklich bei 0 liegt."
   ]
  },
  {
   "cell_type": "code",
   "execution_count": null,
   "metadata": {},
   "outputs": [],
   "source": [
    "print(network.links.p_nom)"
   ]
  },
  {
   "cell_type": "code",
   "execution_count": null,
   "metadata": {},
   "outputs": [],
   "source": [
    "# Simulation der Basiskonfiguration für den kompletten Zeitraum:\n",
    "network.lopf(solver_name = \"cbc\", pyomo = False) #Der Parameter pyomo = False hilft uns bei diesem Netzwerk RAM und Rechenzeit zu sparen."
   ]
  },
  {
   "cell_type": "markdown",
   "metadata": {},
   "source": [
    "## Auswertungsfunktion"
   ]
  },
  {
   "cell_type": "markdown",
   "metadata": {},
   "source": [
    "Funktionen werden in python üblicherweise am Anfang eines Scriptes definiert. Aus didaktischen Gründen kommt die Definition der Funktion erst jetzt. Für Aufgaben, welche wir mehrfach ausführen lohnt sich die Definition einer Funktion. Diese kann dann im weiteren Verlauf immer wieder aufgerufen werden. \n",
    "Wir werten hier das gelöste Netzwerk nach den gewünschten Parametern aus. "
   ]
  },
  {
   "cell_type": "code",
   "execution_count": null,
   "metadata": {},
   "outputs": [],
   "source": [
    "#Auswertung der Kosten und Anteile\n",
    "def cost_share_evaluation(network):\n",
    "    '''\n",
    "    This function evaluate the solved pypsa network to get the costs, revenues and the share of the selfconsumption.\n",
    "    \n",
    "    Parameters\n",
    "    ----------\n",
    "    network:            pypsa Network\n",
    "                        The solved pypsa network with all corresponding devices\n",
    "    Returns\n",
    "    -------\n",
    "    results :           dict\n",
    "                        The dictionary with all the results.\n",
    "    '''\n",
    "    \n",
    "    grid_import = (network.generators_t.p['grid_import'] * network.snapshot_weightings).sum()\n",
    "    grid_export = (network.generators_t.p['grid_export'] * network.snapshot_weightings).sum()\n",
    "    self_consumed_pv = (network.generators_t.p['pv'] * network.snapshot_weightings).sum()- grid_export\n",
    "    self_consumption_ratio = self_consumed_pv/(grid_import + self_consumed_pv)\n",
    "    \n",
    "    electricity_cost = grid_import * network.generators.marginal_cost['grid_import']\n",
    "    electricty_revenues = grid_export * network.generators.marginal_cost['grid_export']\n",
    "    gas_costs = (network.generators_t.p['boiler']*network.snapshot_weightings).sum() * network.generators.marginal_cost['boiler']\n",
    "    \n",
    "    curtailment = ((network.generators_t.p_max_pu['pv']*network.generators.p_nom['pv'] - network.generators_t.p['pv'])*network.snapshot_weightings).sum()\n",
    "\n",
    "    results = {\"Eigenverbrauchsanteil\": self_consumption_ratio,\n",
    "              \"Stromkosten\": electricity_cost,\n",
    "              \"Gaskosten\": gas_costs,\n",
    "              \"Stromerlöse\": -electricty_revenues,\n",
    "              \"Gesamtkosten\": electricity_cost + gas_costs + electricty_revenues,\n",
    "              \"Nicht nutzbare Energie\": curtailment}\n",
    "    return results"
   ]
  },
  {
   "cell_type": "markdown",
   "metadata": {},
   "source": [
    "Ausführung der Auswertungsfunktion"
   ]
  },
  {
   "cell_type": "code",
   "execution_count": null,
   "metadata": {},
   "outputs": [],
   "source": [
    "results_without_heatpump = cost_share_evaluation(network)\n",
    "\n",
    "#Die Werte sollen auch als Text ausgegeben werden\n",
    "print(\"Der Eigenverbrauchsanteil am Stromverbrauch in der Basiskonfiguration beträgt \"\n",
    "      + str(round(results_without_heatpump[\"Eigenverbrauchsanteil\"]*100,2))\n",
    "      +\"%. Dabei entstehen Stromkosten von \"\n",
    "      +str(round(results_without_heatpump[\"Stromkosten\"]/100,2))\n",
    "      +\"€, Gaskosten von \"\n",
    "      +str(round(results_without_heatpump[\"Gaskosten\"]/100,2))\n",
    "      +\"€ und EEG-Erlöse von \"\n",
    "      +str(round(results_without_heatpump[\"Stromerlöse\"]/100,2))\n",
    "      +\", wobei \" +str(round(results_without_heatpump[\"Nicht nutzbare Energie\"]/100,1))+ \"kWh PV-Strom abgeregelt werden müssen.\"\n",
    "      +\" Die Gesamtkosten betragen \"+ str(round(results_without_heatpump[\"Gesamtkosten\"]/100,2)) +\"€.\"\n",
    "     )"
   ]
  },
  {
   "cell_type": "markdown",
   "metadata": {},
   "source": [
    "### Visualisierung der Ergebnisse"
   ]
  },
  {
   "cell_type": "code",
   "execution_count": null,
   "metadata": {},
   "outputs": [],
   "source": [
    "df_figure_without_heatpump = pd.concat([network.generators_t.p['pv'], network.generators_t.p['grid_import'], -network.generators_t.p['grid_export']], axis = 1)\n",
    "df_figure_without_heatpump.columns = ['PV Erzeugung', 'Netzbezug', 'Netzeinspeisung']\n",
    "ax = df_figure_without_heatpump.loc['10-13-19 00:00:00':'10-14-19 23:50:00'].plot(subplots = False, figsize=(15,10), kind= 'area')\n",
    "load_figure = network.loads_t.p_set['electricity_load']\n",
    "load_figure.name = 'Elektrische Last'\n",
    "load_figure.loc['10-13-19 00:00:00':'10-14-19 23:50:00'].plot(legend = True, color = 'red', ax = ax)"
   ]
  },
  {
   "cell_type": "markdown",
   "metadata": {},
   "source": [
    "## Erweiterte Konfiguration mit Wärmepumpe "
   ]
  },
  {
   "cell_type": "markdown",
   "metadata": {},
   "source": [
    "Um die Eigenverbrauchsoptimierung mit Hilfe der Wärmepumpe zu berechnen, wird die Wärmepumpe wieder mit ihrer Nennleistung implementiert und die Simulation erneut durchgeführt. "
   ]
  },
  {
   "cell_type": "code",
   "execution_count": null,
   "metadata": {},
   "outputs": [],
   "source": [
    "network.links.loc['heat_pump', 'p_nom'] = heat_pump[\"electrical_power\"]"
   ]
  },
  {
   "cell_type": "markdown",
   "metadata": {},
   "source": [
    "## Simulation der Konfiguration mit Wärmepumpe"
   ]
  },
  {
   "cell_type": "code",
   "execution_count": null,
   "metadata": {},
   "outputs": [],
   "source": [
    "# Simulation für den kompletten Zeitraum:\n",
    "network.lopf(solver_name = \"cbc\", pyomo = False) #Der Parameter pyomo = False hilft uns bei diesem Netzwerk RAM und Rechenzeit zu sparen."
   ]
  },
  {
   "cell_type": "code",
   "execution_count": null,
   "metadata": {},
   "outputs": [],
   "source": [
    "# Ausführung der Auswertungsfunktion\n",
    "results_with_heatpump = cost_share_evaluation(network)\n",
    "print(\"Der Eigenverbrauchsanteil am Stromverbrauch in der Konfiguration mit Wärmepumpe beträgt \"\n",
    "      + str(round(results_with_heatpump[\"Eigenverbrauchsanteil\"]*100,2))\n",
    "      +\"%.\\n Dabei entstehen Stromkosten von \"\n",
    "      +str(round(results_with_heatpump[\"Stromkosten\"]/100,2))\n",
    "      +\"€, Gaskosten von \"\n",
    "      +str(round(results_with_heatpump[\"Gaskosten\"]/100,2))\n",
    "      +\"€ und EEG-Erlöse von \"\n",
    "      +str(round(results_with_heatpump[\"Stromerlöse\"]/100,2))\n",
    "      +\", wobei \" +str(round(results_with_heatpump[\"Nicht nutzbare Energie\"]/100,1))\n",
    "      + \"kWh PV-Strom abgeregelt werden müssen.\\n\"\n",
    "      +\" Die Gesamtkosten betragen \"+ str(round(results_with_heatpump[\"Gesamtkosten\"]/100,2)) \n",
    "      +\"€.\\n\"\n",
    "      +\"Gegenüber der Basiskonfiguration ist dies eine Erhöhung des Eigenverbrauchsanteils um \"\n",
    "      +str(round((results_with_heatpump[\"Eigenverbrauchsanteil\"]- results_without_heatpump[\"Eigenverbrauchsanteil\"])*100,2))\n",
    "      +\" Prozentpunkte und eine Verringerung der Kosten um \"\n",
    "      +str(round((results_without_heatpump[\"Gesamtkosten\"]-results_with_heatpump[\"Gesamtkosten\"])/100,2))\n",
    "      +\"€.\"\n",
    "     )"
   ]
  },
  {
   "cell_type": "code",
   "execution_count": null,
   "metadata": {},
   "outputs": [],
   "source": [
    "df_figure_with_heatpump = pd.concat([network.generators_t.p['pv'], network.generators_t.p['grid_import'], -network.generators_t.p['grid_export']], axis = 1)\n",
    "df_figure_with_heatpump.columns = ['PV Erzeugung', 'Netzbezug', 'Netzeinspeisung']\n",
    "ax = df_figure_with_heatpump.loc['10-13-19 00:00:00':'10-14-19 23:50:00'].plot(subplots = False, figsize=(15,10), kind= 'area')\n",
    "total_load = pd.concat([network.loads_t.p_set['electricity_load'], network.links_t.p0['heat_pump']], axis = 1)\n",
    "total_load.columns = ['Elektrische Last', 'Wärmepumpe']\n",
    "total_load.loc['10-13-19 00:00:00':'10-14-19 23:50:00'].plot(color = ['red', 'black'], legend = True, stacked = False, ax=ax)"
   ]
  }
 ],
 "metadata": {
  "celltoolbar": "Raw Cell Format",
  "kernelspec": {
   "display_name": "Python 3",
   "language": "python",
   "name": "python3"
  },
  "language_info": {
   "codemirror_mode": {
    "name": "ipython",
    "version": 3
   },
   "file_extension": ".py",
   "mimetype": "text/x-python",
   "name": "python",
   "nbconvert_exporter": "python",
   "pygments_lexer": "ipython3",
   "version": "3.7.3"
  }
 },
 "nbformat": 4,
 "nbformat_minor": 4
}
